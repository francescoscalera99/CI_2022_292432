{
 "cells": [
  {
   "cell_type": "code",
   "execution_count": 285,
   "metadata": {},
   "outputs": [],
   "source": [
    "from base64 import decode\n",
    "import random \n",
    "import numpy as np\n",
    "from sklearn.model_selection import ParameterGrid\n",
    "from tqdm import tqdm"
   ]
  },
  {
   "cell_type": "code",
   "execution_count": 286,
   "metadata": {},
   "outputs": [],
   "source": [
    "N = 20\n",
    "POPULATION_SIZE = 50\n",
    "OFFSPRING_SIZE = 30"
   ]
  },
  {
   "cell_type": "code",
   "execution_count": 287,
   "metadata": {},
   "outputs": [],
   "source": [
    "#We discard duplicate elements\n",
    "def problem(N, seed=42):\n",
    "    \"\"\"Generates the problem, also makes all blocks generated unique\"\"\"\n",
    "    random.seed(seed)\n",
    "    blocks_not_unique = [\n",
    "        list(set(random.randint(0, N - 1) for n in range(random.randint(N // 5, N // 2))))\n",
    "        for n in range(random.randint(N, N * 5))\n",
    "    ]\n",
    "    blocks_unique = np.unique(np.array(blocks_not_unique, dtype=object))\n",
    "    return blocks_unique.tolist()\n",
    "\n",
    "initial_list = problem(N)\n",
    "\n",
    "the_list = list()\n",
    "the_list.append((None, None, \"initial\"))\n",
    "the_list_counter = 0\n",
    "the_list_current_option = \"initial\""
   ]
  },
  {
   "cell_type": "code",
   "execution_count": 288,
   "metadata": {},
   "outputs": [],
   "source": [
    "def fitness(individual):\n",
    "    return sum([len(l[0]) for l in zip(initial_list, individual) if l[1] is True])\n",
    "\n",
    "def checkFeasibility(individual):\n",
    "    covered = set()\n",
    "    for p in zip(initial_list, individual):\n",
    "        covered.update([n for n in p[0] if p[1]==True])\n",
    "    return len(covered) == N\n",
    "\n",
    "def select_parent(population, tournament_size = 2):\n",
    "    subset = random.choices(population, k = tournament_size)\n",
    "    return min(subset, key=lambda i: i [0])\n",
    "\n",
    "def mutation(g):\n",
    "    point = random.randint(0,len(g)-1)\n",
    "    return g[:point] + [not g[point]] + g[point+1:]\n",
    "\n",
    "def cross_over(g1, g2):\n",
    "    cut = random.randint(0,len(g1))\n",
    "    return g1[:cut] + g2[cut:]\n",
    "\n",
    "def calculateMutationProbability(best_candidate):\n",
    "    distance = abs(N - best_candidate[0])\n",
    "    return 1-(distance/N)\n",
    "\n",
    "def calculateMutationProbabilityDet2(best_candidate):\n",
    "    global the_list, the_list_current_option\n",
    "\n",
    "    probability_selected = 0.5\n",
    "    probability_reason = \"\"\n",
    "\n",
    "    # check if best changed (based on fitness func)\n",
    "    if not best_candidate[0] == the_list[-1][0]:\n",
    "        the_list = list()\n",
    "        the_list.append(best_candidate)\n",
    "    else:\n",
    "        the_list.append(best_candidate)\n",
    "\n",
    "    # if list is bigger than 10 select opositive of current best\n",
    "    if len(the_list) > 10:\n",
    "\n",
    "        if len(the_list) < 21:\n",
    "            if best_candidate[2] == \"mutation\":\n",
    "                probability_reason= \"cross\"\n",
    "                probability_selected = 0.1\n",
    "            else:\n",
    "                probability_reason= \"mutation\"\n",
    "                probability_selected = 0.9\n",
    "        else:\n",
    "            probability_reason = the_list_current_option\n",
    "\n",
    "        if len(the_list) % 20 == 0:\n",
    "            if the_list_current_option == \"mutation\":\n",
    "                probability_reason= \"cross\"\n",
    "                probability_selected = 0.1\n",
    "            else:\n",
    "                probability_reason= \"mutation\"\n",
    "                probability_selected = 0.9\n",
    "    else:\n",
    "        probability_reason = \"normal\"\n",
    "        probability_selected = calculateMutationProbability(best_candidate)\n",
    "\n",
    "    the_list_current_option = probability_reason\n",
    "    # print(f\"{the_list_current_option} selected\")\n",
    "    return probability_selected"
   ]
  },
  {
   "cell_type": "code",
   "execution_count": 289,
   "metadata": {},
   "outputs": [],
   "source": [
    "population = list()\n",
    "while len(population) != POPULATION_SIZE:\n",
    "    random_choices = random.choices([True, False], k=len(initial_list))\n",
    "    fit_ind = (fitness(random_choices), random_choices)\n",
    "    if checkFeasibility(random_choices) and fit_ind not in population:\n",
    "        population.append(fit_ind)"
   ]
  },
  {
   "cell_type": "code",
   "execution_count": null,
   "metadata": {},
   "outputs": [],
   "source": [
    "PARAMETERS = {\n",
    "    \"N\":[5, 20, 100],\n",
    "    \"POPULATION_SIZE\":[10,30,50,100],\n",
    "    \"OFFSPRING_SIZE\":[20, 60, 100, 200]\n",
    "}\n",
    "\n",
    "configurations = {\"configurations\": []}\n",
    "my_configs = ParameterGrid(PARAMETERS)\n",
    "for config in my_configs:\n",
    "    configurations[\"configurations\"].append(config)"
   ]
  },
  {
   "cell_type": "code",
   "execution_count": 290,
   "metadata": {},
   "outputs": [
    {
     "ename": "KeyboardInterrupt",
     "evalue": "",
     "output_type": "error",
     "traceback": [
      "\u001b[0;31m---------------------------------------------------------------------------\u001b[0m",
      "\u001b[0;31mKeyboardInterrupt\u001b[0m                         Traceback (most recent call last)",
      "Cell \u001b[0;32mIn [290], line 13\u001b[0m\n\u001b[1;32m     11\u001b[0m         new_individual \u001b[39m=\u001b[39m cross_over(p1[\u001b[39m1\u001b[39m],p2[\u001b[39m1\u001b[39m])\n\u001b[1;32m     12\u001b[0m     fit_off \u001b[39m=\u001b[39m (fitness(new_individual), new_individual)\n\u001b[0;32m---> 13\u001b[0m     \u001b[39mif\u001b[39;00m checkFeasibility(new_individual) \u001b[39mand\u001b[39;00m fit_off \u001b[39mnot\u001b[39;00m \u001b[39min\u001b[39;00m offspring_pool:\n\u001b[1;32m     14\u001b[0m         offspring_pool\u001b[39m.\u001b[39mappend((fitness(new_individual),new_individual))\n\u001b[1;32m     15\u001b[0m \u001b[39mfor\u001b[39;00m o \u001b[39min\u001b[39;00m offspring_pool:\n",
      "Cell \u001b[0;32mIn [288], line 7\u001b[0m, in \u001b[0;36mcheckFeasibility\u001b[0;34m(individual)\u001b[0m\n\u001b[1;32m      5\u001b[0m covered \u001b[39m=\u001b[39m \u001b[39mset\u001b[39m()\n\u001b[1;32m      6\u001b[0m \u001b[39mfor\u001b[39;00m p \u001b[39min\u001b[39;00m \u001b[39mzip\u001b[39m(initial_list, individual):\n\u001b[0;32m----> 7\u001b[0m     covered\u001b[39m.\u001b[39;49mupdate([n \u001b[39mfor\u001b[39;49;00m n \u001b[39min\u001b[39;49;00m p[\u001b[39m0\u001b[39;49m] \u001b[39mif\u001b[39;49;00m p[\u001b[39m1\u001b[39;49m]\u001b[39m==\u001b[39;49m\u001b[39mTrue\u001b[39;49;00m])\n\u001b[1;32m      8\u001b[0m \u001b[39mreturn\u001b[39;00m \u001b[39mlen\u001b[39m(covered) \u001b[39m==\u001b[39m N\n",
      "\u001b[0;31mKeyboardInterrupt\u001b[0m: "
     ]
    }
   ],
   "source": [
    "header=\"N,POPULATION_SIZE,OFFSPRING_SIZE,fitness \\n\"\n",
    "with open(\"results.csv\", \"w\") as csvf_header:\n",
    "    csvf_header.write(header)\n",
    "\n",
    "with open(\"results.csv\", \"a\") as csvf:\n",
    "    for idx in tqdm(range(len(configurations[\"configurations\"]))):\n",
    "\n",
    "        config = configurations[\"configurations\"][idx]\n",
    "\n",
    "        for __ in range(1000):\n",
    "            offspring_pool = list()\n",
    "            while len(offspring_pool) != OFFSPRING_SIZE:\n",
    "                mutation_probability = calculateMutationProbabilityDet2(population[0], 5)\n",
    "                if random.random() < calculateMutationProbability(population[0]):\n",
    "                    p = select_parent(population)\n",
    "                    new_individual = mutation(p[1])\n",
    "                else:\n",
    "                    while p1 == p2:\n",
    "                        p1, p2 = select_parent(population), select_parent(population)\n",
    "                    new_individual = cross_over(p1[1], p2[1])\n",
    "                fit_off = (fitness(new_individual), new_individual)\n",
    "                if checkFeasibility(new_individual) and fit_off not in offspring_pool:\n",
    "                    offspring_pool.append(\n",
    "                        (fitness(new_individual), new_individual))\n",
    "            for o in offspring_pool:\n",
    "                if o not in population:\n",
    "                    population.append(o)\n",
    "            population = sorted(population, key=lambda x: x[0])\n",
    "            population = population[:POPULATION_SIZE]\n",
    "\n",
    "        csvf.write(f\"{config['N']},{config['POPULATION_SIZE'],{fitness}\\n\")\n",
    "\n",
    "\n",
    "\n",
    "# history = (\"mutation\", fitness)\n",
    "\n",
    "# if history[0] == \"mutation\": #se mutation (o crossover) è uguale per tutti\n",
    "#     mutation_probability = 0.1"
   ]
  }
 ],
 "metadata": {
  "kernelspec": {
   "display_name": "Python 3.9.0 64-bit",
   "language": "python",
   "name": "python3"
  },
  "language_info": {
   "codemirror_mode": {
    "name": "ipython",
    "version": 3
   },
   "file_extension": ".py",
   "mimetype": "text/x-python",
   "name": "python",
   "nbconvert_exporter": "python",
   "pygments_lexer": "ipython3",
   "version": "3.9.0"
  },
  "orig_nbformat": 4,
  "vscode": {
   "interpreter": {
    "hash": "aee8b7b246df8f9039afb4144a1f6fd8d2ca17a180786b69acc140d282b71a49"
   }
  }
 },
 "nbformat": 4,
 "nbformat_minor": 2
}
