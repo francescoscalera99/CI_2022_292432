{
 "cells": [
  {
   "cell_type": "code",
   "execution_count": 253,
   "metadata": {},
   "outputs": [],
   "source": [
    "import logging\n",
    "import random\n",
    "from typing import Callable\n",
    "from collections import namedtuple\n",
    "from copy import deepcopy\n",
    "from itertools import accumulate\n",
    "from operator import xor"
   ]
  },
  {
   "cell_type": "code",
   "execution_count": 254,
   "metadata": {},
   "outputs": [],
   "source": [
    "Nimply = namedtuple(\"Nimply\", \"row, num_objects\")"
   ]
  },
  {
   "cell_type": "code",
   "execution_count": 255,
   "metadata": {},
   "outputs": [],
   "source": [
    "class Nim:\n",
    "    def __init__(self, num_rows: int, k: int = None) -> None:\n",
    "        self._rows = [i*2+1 for i in range(num_rows)]\n",
    "        self._k = k\n",
    "    \n",
    "    def __bool__(self):\n",
    "        return sum(self.rows) > 0\n",
    "\n",
    "    def __str__(self):\n",
    "        return \"<\" + \" \".join(str(_) for _ in self._rows) + \">\"\n",
    "\n",
    "    @property\n",
    "    def rows(self) -> tuple:\n",
    "        return tuple(self._rows)\n",
    "\n",
    "    @property\n",
    "    def k(self) -> int:\n",
    "        return self._k\n",
    "\n",
    "    def nimming(self, ply: Nimply) -> None:\n",
    "        row, num_objects = ply\n",
    "        assert self._rows[row] >= num_objects\n",
    "        assert self._k is None or num_objects <= self._k\n",
    "        self._rows[row] -= num_objects"
   ]
  },
  {
   "cell_type": "code",
   "execution_count": 256,
   "metadata": {},
   "outputs": [],
   "source": [
    "def nim_sum(state: Nim) -> int:\n",
    "    *_, result = accumulate(state.rows, xor)\n",
    "    return result"
   ]
  },
  {
   "cell_type": "code",
   "execution_count": 257,
   "metadata": {},
   "outputs": [],
   "source": [
    "def cook_status(state: Nim) -> dict:\n",
    "    cooked = dict()\n",
    "    #ALL THE POSSIBLE MOVES\n",
    "    cooked['possible_moves'] = [(r, o) for r,c in enumerate(state.rows) for o in range(1, c+1) if state.k is None or o <= state.k]\n",
    "    #NUMBER OR ROWS \"ACTIVE\": a row is active when we have at least one element.\n",
    "    cooked['activate_rows_number'] = sum(o > 0 for o in state.rows)\n",
    "    #INTEGER representing the index of row with the minimum number of objects \n",
    "    cooked['shortest_row'] = min((x for x in enumerate(state.rows) if x[1] > 0), key = lambda y: y[1])[0]\n",
    "    #INTEGER representing the index of row with the maximum number of objects \n",
    "    cooked['longest_row'] = max((x for x in enumerate(state.rows) if x[1] > 0), key = lambda y: y[1])[0]\n",
    "    #NIM_SUM\n",
    "    cooked['nim_sum'] = nim_sum(state)\n",
    "    \n",
    "    brute_force = list()\n",
    "    for m in cooked['possible_moves']:\n",
    "        tmp = deepcopy(state)\n",
    "        tmp.nimming(m)\n",
    "        #we append the tuple (m, nim_sum(tmp)) which represents the move and the possible effect (in terms of nim_sum) on the state\n",
    "        brute_force.append((m, nim_sum(tmp)))\n",
    "    cooked['brute_force'] = brute_force\n",
    "\n",
    "    return cooked"
   ]
  },
  {
   "cell_type": "markdown",
   "metadata": {},
   "source": [
    "# Possible strategies of the other player"
   ]
  },
  {
   "cell_type": "code",
   "execution_count": 258,
   "metadata": {},
   "outputs": [],
   "source": [
    "def gabriele(state: Nim) -> Nimply:\n",
    "    \"\"\"Pick always the maximum possible number of the lowest row\"\"\"\n",
    "    possible_moves = [(r, o) for r, c in enumerate(state.rows) for o in range(1, c + 1)]\n",
    "    return Nimply(*max(possible_moves, key=lambda m: (-m[0], m[1])))"
   ]
  },
  {
   "cell_type": "code",
   "execution_count": 259,
   "metadata": {},
   "outputs": [],
   "source": [
    "def pure_random(state: Nim) -> Nimply:\n",
    "    row = random.choice([r for r, c in enumerate(state.rows) if c > 0])\n",
    "    num_objects = random.randint(1, state.rows[row])\n",
    "    return Nimply(row, num_objects)"
   ]
  },
  {
   "cell_type": "code",
   "execution_count": 260,
   "metadata": {},
   "outputs": [],
   "source": [
    "def optimal_strategy(state: Nim) -> Nimply:\n",
    "    data = cook_status(state)\n",
    "    return next((bf for bf in data['brute_force'] if bf[1] == 0), random.choice(data['brute_force']))[0]"
   ]
  },
  {
   "cell_type": "markdown",
   "metadata": {},
   "source": [
    "## Possible strategies we can play"
   ]
  },
  {
   "cell_type": "code",
   "execution_count": 261,
   "metadata": {},
   "outputs": [],
   "source": [
    "def make_strategy(genome: dict) -> Callable:\n",
    "    def evolvable(state: Nim) -> Nimply:\n",
    "        data = cook_status(state)\n",
    "        if random.random() < genome['p']:\n",
    "            ply = Nimply(data['shortest_row'], random.randint(1, state.rows[data['shortest_row']]))\n",
    "        else:\n",
    "            ply = Nimply(data['longest_row'], random.randint(1, state.rows[data['longest_row']]))\n",
    "\n",
    "        return ply\n",
    "    return evolvable"
   ]
  },
  {
   "cell_type": "code",
   "execution_count": 262,
   "metadata": {},
   "outputs": [],
   "source": [
    "#DICTIONARY OF PARAMETERS: {\"%_taken_longest\", \"%_taken_shortest\", \"binary_chance\"} \n",
    "def make_strategy_evol(genome: dict) -> Callable:\n",
    "    def evolvable(state: Nim) -> Nimply:\n",
    "        data = cook_status(state)\n",
    "\n",
    "        if random.random() < genome['binary_chance']:\n",
    "            ply = Nimply(data['shortest_row'], random.randint(1, int(state.rows[data['shortest_row']]/100*genome['%_taken_shortest'])))    \n",
    "        else:\n",
    "            ply = Nimply(data['longest_row'], random.randint(1, int(state.rows[data['longest_row']]/100*genome['%_taken_longest']))) \n",
    "        \n",
    "        return ply\n",
    "    return evolvable"
   ]
  },
  {
   "cell_type": "code",
   "execution_count": 263,
   "metadata": {},
   "outputs": [],
   "source": [
    "NUM_MATCHES = 100\n",
    "NIM_SIZE = 10\n",
    "\n",
    "def evaluate(strategy: Callable) -> float:\n",
    "    opponent = (strategy, optimal_strategy)\n",
    "    for m in range(NUM_MATCHES):\n",
    "        nim = Nim(NIM_SIZE)\n",
    "\n",
    "        player = 0\n",
    "        while nim:\n",
    "            ply = opponent[player](nim)\n",
    "            nim.nimming(ply)\n",
    "            logging.debug(f\"status: After player {player} -> {nim}\")\n",
    "            player = 1 - player\n",
    "        if player == 1:\n",
    "            won += 1\n",
    "    return won/NUM_MATCHES"
   ]
  },
  {
   "cell_type": "code",
   "execution_count": 264,
   "metadata": {},
   "outputs": [],
   "source": [
    "def evaluate_evolve(strategy:Callable) -> float:\n",
    "    opponent = (strategy, gabriele)\n",
    "    for m in range(NUM_MATCHES):\n",
    "        nim = Nim(NIM_SIZE)\n",
    "\n",
    "        player = 0\n",
    "        while nim:\n",
    "            ply = opponent[player](nim)\n",
    "            nim.nimming(ply)\n",
    "            logging.debug(f\"status: After player {player} -> {nim}\")\n",
    "            player = 1 - player\n",
    "        if player == 1:\n",
    "            won+=1\n",
    "    return won/NUM_MATCHES"
   ]
  },
  {
   "cell_type": "markdown",
   "metadata": {},
   "source": [
    "## Oversimplified match"
   ]
  },
  {
   "cell_type": "code",
   "execution_count": 265,
   "metadata": {},
   "outputs": [
    {
     "name": "stderr",
     "output_type": "stream",
     "text": [
      "DEBUG:root:status: Initial board -> <1 3 5 7 9 11 13 15 17 19 21>\n",
      "DEBUG:root:status: After player 0 -> <1 3 5 7 9 11 13 15 17 19 2>\n",
      "DEBUG:root:status: After player 1 -> <1 3 5 7 9 11 7 15 17 19 2>\n",
      "DEBUG:root:status: After player 0 -> <1 3 5 7 9 11 7 15 17 3 2>\n",
      "DEBUG:root:status: After player 1 -> <1 3 5 7 9 11 7 15 11 3 2>\n",
      "DEBUG:root:status: After player 0 -> <1 3 5 7 9 11 7 1 11 3 2>\n",
      "DEBUG:root:status: After player 1 -> <1 3 5 7 7 11 7 1 11 3 2>\n",
      "DEBUG:root:status: After player 0 -> <1 3 5 7 7 3 7 1 11 3 2>\n",
      "DEBUG:root:status: After player 1 -> <1 3 5 7 7 3 7 1 3 3 2>\n",
      "DEBUG:root:status: After player 0 -> <1 3 5 6 7 3 7 1 3 3 2>\n",
      "DEBUG:root:status: After player 1 -> <0 3 5 6 7 3 7 1 3 3 2>\n",
      "DEBUG:root:status: After player 0 -> <0 3 5 6 6 3 7 1 3 3 2>\n",
      "DEBUG:root:status: After player 1 -> <0 2 5 6 6 3 7 1 3 3 2>\n",
      "DEBUG:root:status: After player 0 -> <0 2 5 6 6 3 7 0 3 3 2>\n",
      "DEBUG:root:status: After player 1 -> <0 2 4 6 6 3 7 0 3 3 2>\n",
      "DEBUG:root:status: After player 0 -> <0 2 4 6 6 3 2 0 3 3 2>\n",
      "DEBUG:root:status: After player 1 -> <0 2 1 6 6 3 2 0 3 3 2>\n",
      "DEBUG:root:status: After player 0 -> <0 2 1 1 6 3 2 0 3 3 2>\n",
      "DEBUG:root:status: After player 1 -> <0 2 1 1 1 3 2 0 3 3 2>\n",
      "DEBUG:root:status: After player 0 -> <0 2 1 1 1 2 2 0 3 3 2>\n",
      "DEBUG:root:status: After player 1 -> <0 2 0 1 1 2 2 0 3 3 2>\n",
      "DEBUG:root:status: After player 0 -> <0 2 0 1 1 2 2 0 0 3 2>\n",
      "DEBUG:root:status: After player 1 -> <0 1 0 1 1 2 2 0 0 3 2>\n",
      "DEBUG:root:status: After player 0 -> <0 1 0 1 1 2 2 0 0 0 2>\n",
      "DEBUG:root:status: After player 1 -> <0 1 0 1 1 1 2 0 0 0 2>\n",
      "DEBUG:root:status: After player 0 -> <0 1 0 1 1 1 0 0 0 0 2>\n",
      "DEBUG:root:status: After player 1 -> <0 1 0 1 1 1 0 0 0 0 0>\n",
      "DEBUG:root:status: After player 0 -> <0 0 0 1 1 1 0 0 0 0 0>\n",
      "DEBUG:root:status: After player 1 -> <0 0 0 0 1 1 0 0 0 0 0>\n",
      "DEBUG:root:status: After player 0 -> <0 0 0 0 0 1 0 0 0 0 0>\n",
      "DEBUG:root:status: After player 1 -> <0 0 0 0 0 0 0 0 0 0 0>\n",
      "INFO:root:status: Player 1 won!\n"
     ]
    }
   ],
   "source": [
    "logging.getLogger().setLevel(logging.DEBUG)\n",
    "\n",
    "strategy = (make_strategy({'p': .1}), optimal_strategy)\n",
    "\n",
    "nim = Nim(11)\n",
    "logging.debug(f\"status: Initial board -> {nim}\")\n",
    "player = 0\n",
    "while nim:\n",
    "    ply = strategy[player](nim)\n",
    "    nim.nimming(ply)\n",
    "    logging.debug(f\"status: After player {player} -> {nim}\")\n",
    "    player = 1 - player\n",
    "winner = 1 - player\n",
    "logging.info(f\"status: Player {winner} won!\")"
   ]
  }
 ],
 "metadata": {
  "kernelspec": {
   "display_name": "Python 3.9.6 64-bit",
   "language": "python",
   "name": "python3"
  },
  "language_info": {
   "codemirror_mode": {
    "name": "ipython",
    "version": 3
   },
   "file_extension": ".py",
   "mimetype": "text/x-python",
   "name": "python",
   "nbconvert_exporter": "python",
   "pygments_lexer": "ipython3",
   "version": "3.9.6"
  },
  "orig_nbformat": 4,
  "vscode": {
   "interpreter": {
    "hash": "31f2aee4e71d21fbe5cf8b01ff0e069b9275f58929596ceb00d14d90e3e16cd6"
   }
  }
 },
 "nbformat": 4,
 "nbformat_minor": 2
}
