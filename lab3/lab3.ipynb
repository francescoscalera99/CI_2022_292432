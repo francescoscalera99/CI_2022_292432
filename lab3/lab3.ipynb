{
 "cells": [
  {
   "cell_type": "code",
   "execution_count": 587,
   "metadata": {},
   "outputs": [],
   "source": [
    "import logging\n",
    "import random\n",
    "from typing import Callable\n",
    "from collections import namedtuple\n",
    "from copy import deepcopy\n",
    "from itertools import accumulate\n",
    "from operator import xor"
   ]
  },
  {
   "cell_type": "code",
   "execution_count": 588,
   "metadata": {},
   "outputs": [],
   "source": [
    "Nimply = namedtuple(\"Nimply\", \"row, num_objects\")"
   ]
  },
  {
   "cell_type": "code",
   "execution_count": 589,
   "metadata": {},
   "outputs": [],
   "source": [
    "class Nim:\n",
    "    def __init__(self, num_rows: int, k: int = None) -> None:\n",
    "        self._rows = [i*2+1 for i in range(num_rows)]\n",
    "        self._k = k\n",
    "        self._total_elements = num_rows*num_rows\n",
    "    \n",
    "    def __bool__(self):\n",
    "        return sum(self.rows) > 0\n",
    "\n",
    "    def __str__(self):\n",
    "        return \"<\" + \" \".join(str(_) for _ in self._rows) + \">\"\n",
    "\n",
    "    @property\n",
    "    def rows(self) -> tuple:\n",
    "        return tuple(self._rows)\n",
    "\n",
    "    @property\n",
    "    def k(self) -> int:\n",
    "        return self._k\n",
    "\n",
    "    @property\n",
    "    def total_elements(self) -> int:\n",
    "        return self._total_elements\n",
    "\n",
    "    def nimming(self, ply: Nimply) -> None:\n",
    "        row, num_objects = ply\n",
    "        assert self._rows[row] >= num_objects\n",
    "        assert self._k is None or num_objects <= self._k\n",
    "        self._rows[row] -= num_objects"
   ]
  },
  {
   "cell_type": "code",
   "execution_count": 590,
   "metadata": {},
   "outputs": [],
   "source": [
    "def nim_sum(state: Nim) -> int:\n",
    "    *_, result = accumulate(state.rows, xor)\n",
    "    return result"
   ]
  },
  {
   "cell_type": "code",
   "execution_count": 591,
   "metadata": {},
   "outputs": [],
   "source": [
    "def cook_status(state: Nim) -> dict:\n",
    "    cooked = dict()\n",
    "    #ALL THE POSSIBLE MOVES\n",
    "    cooked['possible_moves'] = [(r, o) for r,c in enumerate(state.rows) for o in range(1, c+1) if state.k is None or o <= state.k]\n",
    "    #NUMBER OR ROWS \"ACTIVE\": a row is active when we have at least one element.\n",
    "    cooked['activate_rows_number'] = sum(o > 0 for o in state.rows)\n",
    "    #INTEGER representing the index of row with the minimum number of objects \n",
    "    cooked['shortest_row'] = min((x for x in enumerate(state.rows) if x[1] > 0), key = lambda y: y[1])[0]\n",
    "    #INTEGER representing the index of row with the maximum number of objects \n",
    "    cooked['longest_row'] = max((x for x in enumerate(state.rows) if x[1] > 0), key = lambda y: y[1])[0]\n",
    "    #NIM_SUM\n",
    "    cooked['nim_sum'] = nim_sum(state)\n",
    "    cooked[\"completion\"] = sum(o for o in state.rows) / state.total_elements\n",
    "    cooked[\"random\"] = random.choice([r for r, c in enumerate(state.rows) if c > 0])\n",
    "    \n",
    "    # brute_force = list()\n",
    "    # for m in cooked['possible_moves']:\n",
    "    #     tmp = deepcopy(state)\n",
    "    #     tmp.nimming(m)\n",
    "    #     #we append the tuple (m, nim_sum(tmp)) which represents the move and the possible effect (in terms of nim_sum) on the state\n",
    "    #     brute_force.append((m, nim_sum(tmp)))\n",
    "    # cooked['brute_force'] = brute_force\n",
    "\n",
    "    return cooked"
   ]
  },
  {
   "cell_type": "markdown",
   "metadata": {},
   "source": [
    "# Possible strategies of the other player"
   ]
  },
  {
   "cell_type": "code",
   "execution_count": 592,
   "metadata": {},
   "outputs": [],
   "source": [
    "def gabriele(state: Nim) -> Nimply:\n",
    "    \"\"\"Pick always the maximum possible number of the lowest row\"\"\"\n",
    "    possible_moves = [(r, o) for r, c in enumerate(state.rows) for o in range(1, c + 1)]\n",
    "    return Nimply(*max(possible_moves, key=lambda m: (-m[0], m[1])))"
   ]
  },
  {
   "cell_type": "code",
   "execution_count": 593,
   "metadata": {},
   "outputs": [],
   "source": [
    "def pure_random(state: Nim) -> Nimply:\n",
    "    row = random.choice([r for r, c in enumerate(state.rows) if c > 0])\n",
    "    num_objects = random.randint(1, state.rows[row])\n",
    "    return Nimply(row, num_objects)\n",
    "\n",
    "\n",
    "def randomSmart(state: Nim) -> Nimply:\n",
    "    data = cook_status(state)\n",
    "    if data[\"activate_rows_number\"]==1:\n",
    "       return Nimply(data[\"random\"], state.rows[data[\"random\"]])\n",
    "    else: \n",
    "        #row = random.choice([r for r, c in enumerate(state.rows) if c > 0])\n",
    "        row = data[\"random\"]\n",
    "        num_objects = random.randint(1, state.rows[row])\n",
    "        return Nimply(row, num_objects)"
   ]
  },
  {
   "cell_type": "code",
   "execution_count": 594,
   "metadata": {},
   "outputs": [],
   "source": [
    "def optimal_strategy(state: Nim) -> Nimply:\n",
    "    data = cook_status(state)\n",
    "    return next((bf for bf in data['brute_force'] if bf[1] == 0), random.choice(data['brute_force']))[0]"
   ]
  },
  {
   "cell_type": "markdown",
   "metadata": {},
   "source": [
    "## Possible strategies we can play"
   ]
  },
  {
   "cell_type": "code",
   "execution_count": 595,
   "metadata": {},
   "outputs": [],
   "source": [
    "def make_strategy(genome: dict) -> Callable:\n",
    "    def evolvable(state: Nim) -> Nimply:\n",
    "        data = cook_status(state)\n",
    "        if random.random() < genome['p']:\n",
    "            ply = Nimply(data['shortest_row'], random.randint(1, state.rows[data['shortest_row']]))\n",
    "        else:\n",
    "            ply = Nimply(data['longest_row'], random.randint(1, state.rows[data['longest_row']]))\n",
    "\n",
    "        return ply\n",
    "    return evolvable"
   ]
  },
  {
   "cell_type": "code",
   "execution_count": 596,
   "metadata": {},
   "outputs": [],
   "source": [
    "#DICTIONARY OF PARAMETERS: {\"%_taken_longest\", \"%_taken_shortest\", \"binary_chance\"} \n",
    "def make_strategy_evol(genome: dict) -> Callable:\n",
    "    def evolvable(state: Nim) -> Nimply:\n",
    "        data = cook_status(state)\n",
    "\n",
    "        if random.random() < genome['binary_chance']:\n",
    "            x = max(1, int(state.rows[data['shortest_row']]*genome['%_taken_shortest']/100))\n",
    "            ply = Nimply(data['shortest_row'],random.randint(1, x))    \n",
    "        else:\n",
    "            x = max(1, int(state.rows[data['longest_row']]*genome['%_taken_longest']/100))\n",
    "            ply = Nimply(data['longest_row'], random.randint(1, x)) \n",
    "        \n",
    "        return ply\n",
    "    return evolvable"
   ]
  },
  {
   "cell_type": "code",
   "execution_count": 597,
   "metadata": {},
   "outputs": [],
   "source": [
    "def completion_strategy_with_min2(genome: dict) -> Callable:\n",
    "    def evolvable(state: Nim) -> Nimply:\n",
    "        data = cook_status(state)\n",
    "        \n",
    "        safety = []\n",
    "        can_be_safety = []\n",
    "        counter = 0\n",
    "        for r in state.rows:\n",
    "            if r > 2:\n",
    "                can_be_safety.append(counter)\n",
    "            if r <= 2 and not r == 0:\n",
    "                safety.append(counter)\n",
    "            counter += 1\n",
    "\n",
    "        if data[\"activate_rows_number\"] == 1:\n",
    "            # take the whole last row\n",
    "            ply = Nimply(data[\"longest_row\"], state.rows[data[\"longest_row\"]])\n",
    "        elif len(safety) < genome[\"p1\"] and len(can_be_safety) > 0:\n",
    "            # need safety, make a safety\n",
    "            row_choice = random.choice(can_be_safety)\n",
    "            ply = Nimply(row_choice, state.rows[row_choice] - 2)\n",
    "        elif data[\"completion\"] < genome[\"p2\"] and len(safety) > 0:\n",
    "            # use safety\n",
    "            row_choice = random.choice(safety)\n",
    "            ply = Nimply(row_choice, 1)\n",
    "        else:\n",
    "            # do normal\n",
    "            # ply = Nimply(data[\"longest_row\"], state.rows[data[\"longest_row\"]])\n",
    "            ply = Nimply(data[\"random\"], state.rows[data[\"random\"]])\n",
    "        return ply\n",
    "\n",
    "    return evolvable"
   ]
  },
  {
   "cell_type": "code",
   "execution_count": 598,
   "metadata": {},
   "outputs": [],
   "source": [
    "def E2longestVSshortest_allVS1(genome: dict) -> Callable:\n",
    "    def evolvable(state: Nim) -> Nimply:\n",
    "        data = cook_status(state)\n",
    "\n",
    "        if random.random() < genome[\"p1\"]:\n",
    "            if random.random() < genome[\"p2\"]:\n",
    "                ply = Nimply(data[\"longest_row\"], state.rows[data[\"longest_row\"]])\n",
    "            else:\n",
    "                ply = Nimply(data[\"longest_row\"], 1)\n",
    "        else:\n",
    "            if random.random() < genome[\"p2\"]:\n",
    "                ply = Nimply(data[\"shortest_row\"], state.rows[data[\"shortest_row\"]])\n",
    "            else:\n",
    "                ply = Nimply(data[\"shortest_row\"], 1)\n",
    "\n",
    "        return ply\n",
    "    return evolvable"
   ]
  },
  {
   "cell_type": "markdown",
   "metadata": {},
   "source": [
    "## Oversimplified match"
   ]
  },
  {
   "cell_type": "code",
   "execution_count": 599,
   "metadata": {},
   "outputs": [],
   "source": [
    "def play(nim, strategy) -> int:\n",
    "    logging.debug(f\"status: Initial board -> {nim}\")\n",
    "    player = 0\n",
    "    while nim:\n",
    "        logging.debug(f\"{nim} {player}\")\n",
    "        ply = strategy[player](nim)\n",
    "        nim.nimming(ply)\n",
    "        logging.debug(f\"status: After player {player} -> {nim}\")\n",
    "        player = 1 - player\n",
    "    winner = 1 - player\n",
    "    logging.debug(f\"status: Player {winner} won!\")\n",
    "    return winner"
   ]
  },
  {
   "cell_type": "code",
   "execution_count": 600,
   "metadata": {},
   "outputs": [],
   "source": [
    "NUM_MATCHES = 100\n",
    "NIM_SIZE = 11\n",
    "\n",
    "def evaluate2(strategy: Callable) -> float:\n",
    "    opponent = (strategy, optimal_strategy)\n",
    "    won = 0\n",
    "    for m in range(NUM_MATCHES):\n",
    "        nim = Nim(NIM_SIZE)\n",
    "        \n",
    "        winner_player =  play(nim, opponent)\n",
    "        if winner_player == 1:\n",
    "            won += 1\n",
    "    return won/NUM_MATCHES\n",
    "\n",
    "def evaluate(strategy: Callable) -> float:\n",
    "    opponent = (strategy, completion_strategy_with_min2({\"p1\": 1, \"p2\":0.3}))\n",
    "    won = 0\n",
    "\n",
    "    for m in range(NUM_MATCHES):\n",
    "        nim = Nim(NIM_SIZE)\n",
    "        player = 0\n",
    "        while nim:\n",
    "            ply = opponent[player](nim)\n",
    "            nim.nimming(ply)\n",
    "            player = 1 - player\n",
    "        if player == 1:\n",
    "            won += 1\n",
    "    return won / NUM_MATCHES"
   ]
  },
  {
   "cell_type": "code",
   "execution_count": 601,
   "metadata": {},
   "outputs": [],
   "source": [
    "logging.getLogger().setLevel(logging.INFO)\n",
    "\n",
    "# strategy = (make_strategy({'p': .1}), optimal_strategy)\n",
    "# nim = Nim(11)\n",
    "\n",
    "# play(nim, strategy)"
   ]
  },
  {
   "cell_type": "markdown",
   "metadata": {},
   "source": [
    "## EVOLVED RULES"
   ]
  },
  {
   "cell_type": "code",
   "execution_count": 602,
   "metadata": {},
   "outputs": [],
   "source": [
    "POPULATION_SIZE = 10\n",
    "OFFSPRING_SIZE = 5\n",
    "NUM_ITERATIONS = 1000"
   ]
  },
  {
   "cell_type": "code",
   "execution_count": 603,
   "metadata": {},
   "outputs": [],
   "source": [
    "def init_population() -> list:\n",
    "    population = list()\n",
    "    for _ in range(POPULATION_SIZE):\n",
    "        param = {'%_taken_longest': random.randint(0, 100), '%_taken_shortest': random.randint(0, 100), 'binary_chance' : random.random()}\n",
    "        if param not in population:\n",
    "            population.append((param, evaluate(make_strategy_evol(param))))\n",
    "    return population\n",
    "\n",
    "def tournament_selection(population) -> dict:\n",
    "    return population[random.choice(range(len(population)))][0]\n",
    "\n",
    "def tweak(parameters) -> dict:\n",
    "    new_param = dict()\n",
    "    new_param[\"binary_chance\"] = parameters[\"binary_chance\"] + random.gauss(0, 0.1)\n",
    "    new_param[\"%_taken_shortest\"] = parameters[\"%_taken_shortest\"] + random.gauss(0, 0.1)\n",
    "    new_param[\"%_taken_longest\"] = parameters[\"%_taken_longest\"] + random.gauss(0, 0.1)\n",
    "    return new_param"
   ]
  },
  {
   "cell_type": "code",
   "execution_count": 604,
   "metadata": {},
   "outputs": [],
   "source": [
    "## GENETIC ALGORITHM"
   ]
  },
  {
   "cell_type": "code",
   "execution_count": 605,
   "metadata": {},
   "outputs": [
    {
     "name": "stderr",
     "output_type": "stream",
     "text": [
      "INFO:root:Iteration 0 : best {'%_taken_longest': 81, '%_taken_shortest': 14, 'binary_chance': 0.025010755222666936} nWin 0.48\n",
      "INFO:root:Iteration 1 : best {'%_taken_longest': 81, '%_taken_shortest': 14, 'binary_chance': 0.025010755222666936} nWin 0.48\n",
      "INFO:root:Iteration 2 : best {'%_taken_longest': 81, '%_taken_shortest': 14, 'binary_chance': 0.025010755222666936} nWin 0.48\n",
      "INFO:root:Iteration 3 : best {'%_taken_longest': 81, '%_taken_shortest': 14, 'binary_chance': 0.025010755222666936} nWin 0.48\n",
      "INFO:root:Iteration 4 : best {'%_taken_longest': 81, '%_taken_shortest': 14, 'binary_chance': 0.025010755222666936} nWin 0.48\n",
      "INFO:root:Iteration 5 : best {'%_taken_longest': 81, '%_taken_shortest': 14, 'binary_chance': 0.025010755222666936} nWin 0.48\n",
      "INFO:root:Iteration 6 : best {'%_taken_longest': 81, '%_taken_shortest': 14, 'binary_chance': 0.025010755222666936} nWin 0.48\n",
      "INFO:root:Iteration 7 : best {'%_taken_longest': 81, '%_taken_shortest': 14, 'binary_chance': 0.025010755222666936} nWin 0.48\n",
      "INFO:root:Iteration 8 : best {'%_taken_longest': 81, '%_taken_shortest': 14, 'binary_chance': 0.025010755222666936} nWin 0.48\n",
      "INFO:root:Iteration 9 : best {'%_taken_longest': 81, '%_taken_shortest': 14, 'binary_chance': 0.025010755222666936} nWin 0.48\n",
      "INFO:root:Iteration 10 : best {'%_taken_longest': 81, '%_taken_shortest': 14, 'binary_chance': 0.025010755222666936} nWin 0.48\n",
      "INFO:root:Iteration 11 : best {'%_taken_longest': 81, '%_taken_shortest': 14, 'binary_chance': 0.025010755222666936} nWin 0.48\n",
      "INFO:root:Iteration 12 : best {'%_taken_longest': 81, '%_taken_shortest': 14, 'binary_chance': 0.025010755222666936} nWin 0.48\n",
      "INFO:root:Iteration 13 : best {'%_taken_longest': 81, '%_taken_shortest': 14, 'binary_chance': 0.025010755222666936} nWin 0.48\n",
      "INFO:root:Iteration 14 : best {'%_taken_longest': 81, '%_taken_shortest': 14, 'binary_chance': 0.025010755222666936} nWin 0.48\n",
      "INFO:root:Iteration 15 : best {'%_taken_longest': 81, '%_taken_shortest': 14, 'binary_chance': 0.025010755222666936} nWin 0.48\n",
      "INFO:root:Iteration 16 : best {'%_taken_longest': 81, '%_taken_shortest': 14, 'binary_chance': 0.025010755222666936} nWin 0.48\n",
      "INFO:root:Iteration 17 : best {'%_taken_longest': 81, '%_taken_shortest': 14, 'binary_chance': 0.025010755222666936} nWin 0.48\n",
      "INFO:root:Iteration 18 : best {'%_taken_longest': 81, '%_taken_shortest': 14, 'binary_chance': 0.025010755222666936} nWin 0.48\n",
      "INFO:root:Iteration 19 : best {'%_taken_longest': 81, '%_taken_shortest': 14, 'binary_chance': 0.025010755222666936} nWin 0.48\n",
      "INFO:root:Iteration 20 : best {'%_taken_longest': 81, '%_taken_shortest': 14, 'binary_chance': 0.025010755222666936} nWin 0.48\n",
      "INFO:root:Iteration 21 : best {'binary_chance': -0.04980225992289222, '%_taken_shortest': 14.072658139451226, '%_taken_longest': 80.90407897983773} nWin 0.49\n",
      "INFO:root:Iteration 22 : best {'binary_chance': -0.04980225992289222, '%_taken_shortest': 14.072658139451226, '%_taken_longest': 80.90407897983773} nWin 0.49\n",
      "INFO:root:Iteration 23 : best {'binary_chance': -0.04980225992289222, '%_taken_shortest': 14.072658139451226, '%_taken_longest': 80.90407897983773} nWin 0.49\n",
      "INFO:root:Iteration 24 : best {'binary_chance': -0.04980225992289222, '%_taken_shortest': 14.072658139451226, '%_taken_longest': 80.90407897983773} nWin 0.49\n",
      "INFO:root:Iteration 25 : best {'binary_chance': -0.04980225992289222, '%_taken_shortest': 14.072658139451226, '%_taken_longest': 80.90407897983773} nWin 0.49\n",
      "INFO:root:Iteration 26 : best {'binary_chance': -0.04980225992289222, '%_taken_shortest': 14.072658139451226, '%_taken_longest': 80.90407897983773} nWin 0.49\n",
      "INFO:root:Iteration 27 : best {'binary_chance': -0.04980225992289222, '%_taken_shortest': 14.072658139451226, '%_taken_longest': 80.90407897983773} nWin 0.49\n",
      "INFO:root:Iteration 28 : best {'binary_chance': -0.04980225992289222, '%_taken_shortest': 14.072658139451226, '%_taken_longest': 80.90407897983773} nWin 0.49\n",
      "INFO:root:Iteration 29 : best {'binary_chance': -0.04980225992289222, '%_taken_shortest': 14.072658139451226, '%_taken_longest': 80.90407897983773} nWin 0.49\n",
      "INFO:root:Iteration 30 : best {'binary_chance': -0.04980225992289222, '%_taken_shortest': 14.072658139451226, '%_taken_longest': 80.90407897983773} nWin 0.49\n",
      "INFO:root:Iteration 31 : best {'binary_chance': -0.04980225992289222, '%_taken_shortest': 14.072658139451226, '%_taken_longest': 80.90407897983773} nWin 0.49\n",
      "INFO:root:Iteration 32 : best {'binary_chance': -0.04980225992289222, '%_taken_shortest': 14.072658139451226, '%_taken_longest': 80.90407897983773} nWin 0.49\n",
      "INFO:root:Iteration 33 : best {'binary_chance': -0.04980225992289222, '%_taken_shortest': 14.072658139451226, '%_taken_longest': 80.90407897983773} nWin 0.49\n",
      "INFO:root:Iteration 34 : best {'binary_chance': -0.04980225992289222, '%_taken_shortest': 14.072658139451226, '%_taken_longest': 80.90407897983773} nWin 0.49\n",
      "INFO:root:Iteration 35 : best {'binary_chance': -0.04980225992289222, '%_taken_shortest': 14.072658139451226, '%_taken_longest': 80.90407897983773} nWin 0.49\n",
      "INFO:root:Iteration 36 : best {'binary_chance': -0.04980225992289222, '%_taken_shortest': 14.072658139451226, '%_taken_longest': 80.90407897983773} nWin 0.49\n",
      "INFO:root:Iteration 37 : best {'binary_chance': -0.04980225992289222, '%_taken_shortest': 14.072658139451226, '%_taken_longest': 80.90407897983773} nWin 0.49\n"
     ]
    },
    {
     "ename": "KeyboardInterrupt",
     "evalue": "",
     "output_type": "error",
     "traceback": [
      "\u001b[0;31m---------------------------------------------------------------------------\u001b[0m",
      "\u001b[0;31mKeyboardInterrupt\u001b[0m                         Traceback (most recent call last)",
      "Cell \u001b[0;32mIn [605], line 9\u001b[0m\n\u001b[1;32m      7\u001b[0m parameters \u001b[39m=\u001b[39m tournament_selection(population)\n\u001b[1;32m      8\u001b[0m offspring \u001b[39m=\u001b[39m tweak(parameters)\n\u001b[0;32m----> 9\u001b[0m o \u001b[39m=\u001b[39m (offspring, evaluate(make_strategy_evol(offspring)))\n\u001b[1;32m     10\u001b[0m \u001b[39mif\u001b[39;00m o \u001b[39mnot\u001b[39;00m \u001b[39min\u001b[39;00m offspring_pool:\n\u001b[1;32m     11\u001b[0m     offspring_pool\u001b[39m.\u001b[39mappend(o)\n",
      "Cell \u001b[0;32mIn [600], line 23\u001b[0m, in \u001b[0;36mevaluate\u001b[0;34m(strategy)\u001b[0m\n\u001b[1;32m     21\u001b[0m player \u001b[39m=\u001b[39m \u001b[39m0\u001b[39m\n\u001b[1;32m     22\u001b[0m \u001b[39mwhile\u001b[39;00m nim:\n\u001b[0;32m---> 23\u001b[0m     ply \u001b[39m=\u001b[39m opponent[player](nim)\n\u001b[1;32m     24\u001b[0m     nim\u001b[39m.\u001b[39mnimming(ply)\n\u001b[1;32m     25\u001b[0m     player \u001b[39m=\u001b[39m \u001b[39m1\u001b[39m \u001b[39m-\u001b[39m player\n",
      "Cell \u001b[0;32mIn [597], line 3\u001b[0m, in \u001b[0;36mcompletion_strategy_with_min2.<locals>.evolvable\u001b[0;34m(state)\u001b[0m\n\u001b[1;32m      2\u001b[0m \u001b[39mdef\u001b[39;00m \u001b[39mevolvable\u001b[39m(state: Nim) \u001b[39m-\u001b[39m\u001b[39m>\u001b[39m Nimply:\n\u001b[0;32m----> 3\u001b[0m     data \u001b[39m=\u001b[39m cook_status(state)\n\u001b[1;32m      5\u001b[0m     safety \u001b[39m=\u001b[39m []\n\u001b[1;32m      6\u001b[0m     can_be_safety \u001b[39m=\u001b[39m []\n",
      "Cell \u001b[0;32mIn [591], line 4\u001b[0m, in \u001b[0;36mcook_status\u001b[0;34m(state)\u001b[0m\n\u001b[1;32m      2\u001b[0m cooked \u001b[39m=\u001b[39m \u001b[39mdict\u001b[39m()\n\u001b[1;32m      3\u001b[0m \u001b[39m#ALL THE POSSIBLE MOVES\u001b[39;00m\n\u001b[0;32m----> 4\u001b[0m cooked[\u001b[39m'\u001b[39m\u001b[39mpossible_moves\u001b[39m\u001b[39m'\u001b[39m] \u001b[39m=\u001b[39m [(r, o) \u001b[39mfor\u001b[39;00m r,c \u001b[39min\u001b[39;00m \u001b[39menumerate\u001b[39m(state\u001b[39m.\u001b[39mrows) \u001b[39mfor\u001b[39;00m o \u001b[39min\u001b[39;00m \u001b[39mrange\u001b[39m(\u001b[39m1\u001b[39m, c\u001b[39m+\u001b[39m\u001b[39m1\u001b[39m) \u001b[39mif\u001b[39;00m state\u001b[39m.\u001b[39mk \u001b[39mis\u001b[39;00m \u001b[39mNone\u001b[39;00m \u001b[39mor\u001b[39;00m o \u001b[39m<\u001b[39m\u001b[39m=\u001b[39m state\u001b[39m.\u001b[39mk]\n\u001b[1;32m      5\u001b[0m \u001b[39m#NUMBER OR ROWS \"ACTIVE\": a row is active when we have at least one element.\u001b[39;00m\n\u001b[1;32m      6\u001b[0m cooked[\u001b[39m'\u001b[39m\u001b[39mactivate_rows_number\u001b[39m\u001b[39m'\u001b[39m] \u001b[39m=\u001b[39m \u001b[39msum\u001b[39m(o \u001b[39m>\u001b[39m \u001b[39m0\u001b[39m \u001b[39mfor\u001b[39;00m o \u001b[39min\u001b[39;00m state\u001b[39m.\u001b[39mrows)\n",
      "Cell \u001b[0;32mIn [591], line 4\u001b[0m, in \u001b[0;36m<listcomp>\u001b[0;34m(.0)\u001b[0m\n\u001b[1;32m      2\u001b[0m cooked \u001b[39m=\u001b[39m \u001b[39mdict\u001b[39m()\n\u001b[1;32m      3\u001b[0m \u001b[39m#ALL THE POSSIBLE MOVES\u001b[39;00m\n\u001b[0;32m----> 4\u001b[0m cooked[\u001b[39m'\u001b[39m\u001b[39mpossible_moves\u001b[39m\u001b[39m'\u001b[39m] \u001b[39m=\u001b[39m [(r, o) \u001b[39mfor\u001b[39;00m r,c \u001b[39min\u001b[39;00m \u001b[39menumerate\u001b[39m(state\u001b[39m.\u001b[39mrows) \u001b[39mfor\u001b[39;00m o \u001b[39min\u001b[39;00m \u001b[39mrange\u001b[39m(\u001b[39m1\u001b[39m, c\u001b[39m+\u001b[39m\u001b[39m1\u001b[39m) \u001b[39mif\u001b[39;00m state\u001b[39m.\u001b[39mk \u001b[39mis\u001b[39;00m \u001b[39mNone\u001b[39;00m \u001b[39mor\u001b[39;00m o \u001b[39m<\u001b[39m\u001b[39m=\u001b[39m state\u001b[39m.\u001b[39mk]\n\u001b[1;32m      5\u001b[0m \u001b[39m#NUMBER OR ROWS \"ACTIVE\": a row is active when we have at least one element.\u001b[39;00m\n\u001b[1;32m      6\u001b[0m cooked[\u001b[39m'\u001b[39m\u001b[39mactivate_rows_number\u001b[39m\u001b[39m'\u001b[39m] \u001b[39m=\u001b[39m \u001b[39msum\u001b[39m(o \u001b[39m>\u001b[39m \u001b[39m0\u001b[39m \u001b[39mfor\u001b[39;00m o \u001b[39min\u001b[39;00m state\u001b[39m.\u001b[39mrows)\n",
      "\u001b[0;31mKeyboardInterrupt\u001b[0m: "
     ]
    }
   ],
   "source": [
    "random.seed(42)\n",
    "population = init_population()\n",
    "\n",
    "for _ in range(1000):\n",
    "    for __ in range(OFFSPRING_SIZE):\n",
    "        offspring_pool = list()\n",
    "        parameters = tournament_selection(population)\n",
    "        offspring = tweak(parameters)\n",
    "        o = (offspring, evaluate(make_strategy_evol(offspring)))\n",
    "        if o not in offspring_pool:\n",
    "            offspring_pool.append(o)\n",
    "    \n",
    "    population += offspring_pool\n",
    "    unique_population = list()\n",
    "    for p in population:\n",
    "        if p not in unique_population:\n",
    "            unique_population.append(p)\n",
    "    population = unique_population\n",
    "    population.sort(key=lambda x: x[1], reverse=True)\n",
    "    population = population[:POPULATION_SIZE]\n",
    "    logging.info(f\"Iteration {_} : best {population[0][0]} nWin {population[0][1]}\")"
   ]
  },
  {
   "cell_type": "code",
   "execution_count": null,
   "metadata": {},
   "outputs": [
    {
     "data": {
      "text/plain": [
       "0.0"
      ]
     },
     "execution_count": 547,
     "metadata": {},
     "output_type": "execute_result"
    }
   ],
   "source": [
    "evaluate(make_strategy_evol({'binary_chance': 1.4828148238731833, '%_taken_shortest': 55.9591599630435, '%_taken_longest': 77.16217066865488}))"
   ]
  }
 ],
 "metadata": {
  "kernelspec": {
   "display_name": "Python 3.9.6 64-bit",
   "language": "python",
   "name": "python3"
  },
  "language_info": {
   "codemirror_mode": {
    "name": "ipython",
    "version": 3
   },
   "file_extension": ".py",
   "mimetype": "text/x-python",
   "name": "python",
   "nbconvert_exporter": "python",
   "pygments_lexer": "ipython3",
   "version": "3.9.6"
  },
  "orig_nbformat": 4,
  "vscode": {
   "interpreter": {
    "hash": "31f2aee4e71d21fbe5cf8b01ff0e069b9275f58929596ceb00d14d90e3e16cd6"
   }
  }
 },
 "nbformat": 4,
 "nbformat_minor": 2
}
