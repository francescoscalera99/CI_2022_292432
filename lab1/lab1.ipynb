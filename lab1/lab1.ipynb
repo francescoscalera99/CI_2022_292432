{
 "cells": [
  {
   "cell_type": "code",
   "execution_count": 333,
   "metadata": {
    "pycharm": {
     "name": "#%%\n"
    }
   },
   "outputs": [],
   "source": [
    "import logging\n",
    "import random\n",
    "import heapq\n",
    "import numpy as np\n",
    "from typing import Callable\n",
    "logging.basicConfig(format=\"%(message)s\", level=logging.INFO)"
   ]
  },
  {
   "cell_type": "code",
   "execution_count": 334,
   "metadata": {
    "pycharm": {
     "name": "#%%\n"
    }
   },
   "outputs": [],
   "source": [
    "class State:\n",
    "    def __init__(self, data: np.ndarray):\n",
    "        self._data = data.copy()\n",
    "        self._data.flags.writeable = False\n",
    "\n",
    "    def __hash__(self):\n",
    "        return hash(bytes(self._data))\n",
    "\n",
    "    def __eq__(self, other):\n",
    "        return bytes(self._data) == bytes(other._data)\n",
    "\n",
    "    def __lt__(self, other):\n",
    "        return bytes(self._data) < bytes(other._data)\n",
    "\n",
    "    def __str__(self):\n",
    "        return str(self._data)\n",
    "\n",
    "    def __repr__(self):\n",
    "        return repr(self._data)\n",
    "\n",
    "    @property\n",
    "    def data(self):\n",
    "        return self._data\n",
    "\n",
    "    def copy_data(self):\n",
    "        return self._data.copy()\n",
    "\n",
    "class PriorityQueue:\n",
    "    \"\"\"A basic Priority Queue with simple performance optimizations\"\"\"\n",
    "\n",
    "    def __init__(self):\n",
    "        self._data_heap = list()\n",
    "        self._data_set = set()\n",
    "\n",
    "    def __bool__(self):\n",
    "        return bool(self._data_set)\n",
    "\n",
    "    def __contains__(self, item):\n",
    "        return item in self._data_set\n",
    "\n",
    "    def push(self, item, p=None):\n",
    "        assert item not in self, f\"Duplicated element\"\n",
    "        if p is None:\n",
    "            p = len(self._data_set)\n",
    "        self._data_set.add(item)\n",
    "        heapq.heappush(self._data_heap, (p, item))\n",
    "\n",
    "    def pop(self):\n",
    "        p, item = heapq.heappop(self._data_heap)\n",
    "        self._data_set.remove(item)\n",
    "        return item"
   ]
  },
  {
   "cell_type": "code",
   "execution_count": 335,
   "metadata": {
    "pycharm": {
     "name": "#%%\n"
    }
   },
   "outputs": [],
   "source": [
    "def unit_cost(a):\n",
    "    return len(a)\n",
    "\n",
    "def priority_function(state):\n",
    "    state_list = state.data.tolist()\n",
    "    return sum(len(s) for s in state_list)\n",
    "\n",
    "def possible_blocks(blocks, state):\n",
    "    pb = blocks\n",
    "    for s in state:\n",
    "        pb.remove(s)\n",
    "    return pb\n",
    "\n",
    "def goal_test(state, N):\n",
    "    state_list = state.data.tolist()\n",
    "    if not state_list:\n",
    "        return False\n",
    "    else:\n",
    "        return all([set(s).issubset(set(range(N))) for s in state_list])"
   ]
  },
  {
   "cell_type": "code",
   "execution_count": 336,
   "metadata": {
    "pycharm": {
     "name": "#%%\n"
    }
   },
   "outputs": [],
   "source": [
    "def problem(N, seed=None):\n",
    "    random.seed(seed)\n",
    "    return [\n",
    "        list(set(random.randint(0, N - 1) for n in range(random.randint(N // 5, N // 2))))\n",
    "        for n in range(random.randint(N, N * 5))\n",
    "    ]\n",
    "\n",
    "def define_new_state(state, a):\n",
    "    state.append(a)\n",
    "    return State(np.array(state))\n",
    "\n",
    "N = 10"
   ]
  },
  {
   "cell_type": "code",
   "execution_count": 337,
   "metadata": {
    "pycharm": {
     "name": "#%%\n"
    }
   },
   "outputs": [],
   "source": [
    "def search(\n",
    "    blocks,\n",
    "    initial_state: State,\n",
    "    goal_test: Callable,\n",
    "    parent_state: dict,\n",
    "    state_cost: dict,\n",
    "    priority_function: Callable,\n",
    "    unit_cost: Callable,\n",
    "):\n",
    "    frontier = PriorityQueue()\n",
    "    parent_state.clear()\n",
    "    state_cost.clear()\n",
    "\n",
    "    state = initial_state\n",
    "    parent_state[state] = None\n",
    "    state_cost[state] = 0\n",
    "    while state is not None and not goal_test(state, N):\n",
    "        for a in possible_blocks(blocks, state.data.tolist()):\n",
    "            new_state = define_new_state(state.data.tolist(), a)\n",
    "            cost = unit_cost(a)\n",
    "            if new_state not in state_cost and new_state not in frontier:\n",
    "                parent_state[new_state] = state\n",
    "                state_cost[new_state] = state_cost[state] + cost\n",
    "                frontier.push(new_state, p=priority_function(new_state))\n",
    "                # logging.debug(f\"Added new node to frontier (cost={state_cost[new_state]})\")\n",
    "                print(f\"Added new node to frontier (cost={state_cost[new_state]})\")\n",
    "            elif new_state in frontier and state_cost[new_state] > state_cost[state] + cost:\n",
    "                old_cost = state_cost[new_state]\n",
    "                parent_state[new_state] = state\n",
    "                state_cost[new_state] = state_cost[state] + cost\n",
    "                # logging.debug(f\"Updated node cost in frontier: {old_cost} -> {state_cost[new_state]}\")\n",
    "                print(f\"Updated node cost in frontier: {old_cost} -> {state_cost[new_state]}\")\n",
    "        if frontier:\n",
    "            state = frontier.pop()\n",
    "        else:\n",
    "            state = None\n",
    "\n",
    "    path = list()\n",
    "    s = state\n",
    "    while s:\n",
    "        path.append(s.copy_data())\n",
    "        s = parent_state[s]\n",
    "\n",
    "    # logging.info(f\"Found a solution in {len(path):,} steps; visited {len(state_cost):,} states\")\n",
    "    print(f\"Found a solution in {len(path):,} steps; visited {len(state_cost):,} states\")\n",
    "    return list(reversed(path))"
   ]
  },
  {
   "cell_type": "code",
   "execution_count": 338,
   "outputs": [
    {
     "name": "stdout",
     "output_type": "stream",
     "text": [
      "Added new node to frontier (cost=2)\n",
      "Added new node to frontier (cost=2)\n",
      "Added new node to frontier (cost=3)\n",
      "Added new node to frontier (cost=4)\n",
      "Added new node to frontier (cost=3)\n",
      "Added new node to frontier (cost=3)\n",
      "Added new node to frontier (cost=3)\n",
      "Added new node to frontier (cost=4)\n",
      "Added new node to frontier (cost=4)\n",
      "Added new node to frontier (cost=3)\n",
      "Added new node to frontier (cost=3)\n",
      "Added new node to frontier (cost=3)\n",
      "Added new node to frontier (cost=3)\n",
      "Added new node to frontier (cost=2)\n",
      "Added new node to frontier (cost=4)\n",
      "Added new node to frontier (cost=4)\n",
      "Added new node to frontier (cost=3)\n",
      "Added new node to frontier (cost=2)\n",
      "Added new node to frontier (cost=5)\n",
      "Added new node to frontier (cost=3)\n",
      "Added new node to frontier (cost=3)\n",
      "Added new node to frontier (cost=3)\n",
      "Added new node to frontier (cost=4)\n",
      "Added new node to frontier (cost=4)\n",
      "Added new node to frontier (cost=3)\n",
      "Added new node to frontier (cost=2)\n",
      "Added new node to frontier (cost=5)\n",
      "Added new node to frontier (cost=3)\n",
      "Added new node to frontier (cost=4)\n",
      "Added new node to frontier (cost=2)\n",
      "Added new node to frontier (cost=2)\n",
      "Added new node to frontier (cost=1)\n",
      "Added new node to frontier (cost=4)\n",
      "Added new node to frontier (cost=3)\n",
      "Found a solution in 2 steps; visited 35 states\n"
     ]
    }
   ],
   "source": [
    "parent_state = dict()\n",
    "state_cost = dict()\n",
    "blocks = problem(N)\n",
    "final = search(\n",
    "    blocks,\n",
    "    State(np.array([])),\n",
    "    goal_test=goal_test,\n",
    "    parent_state=parent_state,\n",
    "    state_cost=state_cost,\n",
    "    priority_function=priority_function,\n",
    "    unit_cost=unit_cost\n",
    ")"
   ],
   "metadata": {
    "collapsed": false,
    "pycharm": {
     "name": "#%%\n"
    }
   }
  },
  {
   "cell_type": "code",
   "execution_count": 338,
   "outputs": [],
   "source": [],
   "metadata": {
    "collapsed": false,
    "pycharm": {
     "name": "#%%\n"
    }
   }
  }
 ],
 "metadata": {
  "kernelspec": {
   "display_name": "Python 3.9.6 64-bit",
   "language": "python",
   "name": "python3"
  },
  "language_info": {
   "codemirror_mode": {
    "name": "ipython",
    "version": 3
   },
   "file_extension": ".py",
   "mimetype": "text/x-python",
   "name": "python",
   "nbconvert_exporter": "python",
   "pygments_lexer": "ipython3",
   "version": "3.9.6"
  },
  "orig_nbformat": 4,
  "vscode": {
   "interpreter": {
    "hash": "31f2aee4e71d21fbe5cf8b01ff0e069b9275f58929596ceb00d14d90e3e16cd6"
   }
  }
 },
 "nbformat": 4,
 "nbformat_minor": 2
}